{
 "cells": [
  {
   "cell_type": "markdown",
   "id": "81c201d3",
   "metadata": {},
   "source": [
    "# Bro\n",
    "> A fun demo"
   ]
  },
  {
   "cell_type": "code",
   "execution_count": 1,
   "id": "72178564",
   "metadata": {},
   "outputs": [],
   "source": [
    "#|default_exp bro"
   ]
  },
  {
   "cell_type": "code",
   "execution_count": 2,
   "id": "017cdb51",
   "metadata": {},
   "outputs": [],
   "source": [
    "#|export\n",
    "def bro(): print(\"What's up bro\")"
   ]
  },
  {
   "cell_type": "code",
   "execution_count": 3,
   "id": "d0df5487",
   "metadata": {},
   "outputs": [],
   "source": [
    "#|hide\n",
    "from nbdev.export import nb_export\n",
    "nb_export('bro.ipynb', 'bro')"
   ]
  },
  {
   "cell_type": "code",
   "execution_count": null,
   "id": "1ee7127e",
   "metadata": {},
   "outputs": [],
   "source": []
  }
 ],
 "metadata": {
  "kernelspec": {
   "display_name": "Python 3 (ipykernel)",
   "language": "python",
   "name": "python3"
  },
  "language_info": {
   "codemirror_mode": {
    "name": "ipython",
    "version": 3
   },
   "file_extension": ".py",
   "mimetype": "text/x-python",
   "name": "python",
   "nbconvert_exporter": "python",
   "pygments_lexer": "ipython3",
   "version": "3.10.12"
  }
 },
 "nbformat": 4,
 "nbformat_minor": 5
}
